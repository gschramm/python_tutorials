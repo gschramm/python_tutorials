{
 "cells": [
  {
   "cell_type": "markdown",
   "id": "08457dd6",
   "metadata": {},
   "source": [
    "## Image reconstruction using Maximum Likeliood Expectation Maximization\n",
    "\n",
    "### MLEM update formula\n",
    "\n",
    "$$ x^{n+1} = \\frac{x^n}{P^T 1} P^T \\left( \\frac{y}{\\bar{y}(x^n)} \\right) $$\n",
    "\n",
    "### Forward model\n",
    "\n",
    "$$ \\bar{y}(x^n) = Px^n + s$$"
   ]
  },
  {
   "cell_type": "code",
   "execution_count": null,
   "id": "6ba0bfe2",
   "metadata": {},
   "outputs": [],
   "source": [
    "import numpy as np\n",
    "import matplotlib.pyplot as plt\n",
    "from scipy.ndimage import gaussian_filter\n",
    "from utils import RotationBased2DProjector, PETAcquisitionModel, test_images\n",
    "\n",
    "# needed to get inline matplotlib plots in an IPython notebook\n",
    "%matplotlib inline"
   ]
  },
  {
   "cell_type": "code",
   "execution_count": null,
   "id": "90992e18",
   "metadata": {},
   "outputs": [],
   "source": [
    "# input parameter for our demo\n",
    "\n",
    "# number of pixels for our images to be simulated and reconstructed\n",
    "npix = 100\n",
    "# pixel size in mm\n",
    "pix_size_mm = 4\n",
    "\n",
    "plt.rcParams['image.cmap'] = 'Greys'\n",
    "np.random.seed(1)"
   ]
  },
  {
   "cell_type": "code",
   "execution_count": null,
   "id": "15d1bbe2",
   "metadata": {},
   "outputs": [],
   "source": [
    "# generate a demo activity (emission) and attenuation image\n",
    "em_img, att_img = test_images(npix)"
   ]
  },
  {
   "cell_type": "code",
   "execution_count": null,
   "id": "168f5ca2",
   "metadata": {},
   "outputs": [],
   "source": [
    "# show the true activity (emission) image and the attenuation image\n",
    "fig, ax = plt.subplots(1,2)\n",
    "im0 = ax[0].imshow(em_img)\n",
    "im1 = ax[1].imshow(att_img)\n",
    "fig.colorbar(im0, ax = ax[0], location = 'bottom')\n",
    "fig.colorbar(im1, ax = ax[1], location = 'bottom')\n",
    "fig.tight_layout()"
   ]
  },
  {
   "cell_type": "code",
   "execution_count": null,
   "id": "4ff2713b",
   "metadata": {},
   "outputs": [],
   "source": [
    "# setup the forward projector\n",
    "proj = RotationBased2DProjector(npix, pix_size_mm = pix_size_mm, num_subsets = 1)\n",
    "acq_model = PETAcquisitionModel(proj, att_img)"
   ]
  },
  {
   "cell_type": "code",
   "execution_count": null,
   "id": "3725b57f",
   "metadata": {},
   "outputs": [],
   "source": [
    "# generate noise free data by applying the acquisition model to our simulated emission image\n",
    "noise_free_data = acq_model.forward(em_img)"
   ]
  },
  {
   "cell_type": "code",
   "execution_count": null,
   "id": "48c26bb4",
   "metadata": {},
   "outputs": [],
   "source": [
    "# add poisson noise to the data\n",
    "noisy_data = np.random.poisson(noise_free_data)"
   ]
  },
  {
   "cell_type": "code",
   "execution_count": null,
   "id": "3f80789a",
   "metadata": {},
   "outputs": [],
   "source": [
    "# show the noise-free and noisy simulated emission data (sinogram)\n",
    "fig2, ax2 = plt.subplots(1,2)\n",
    "im02 = ax2[0].imshow(noise_free_data)\n",
    "im12 = ax2[1].imshow(noisy_data)\n",
    "fig2.colorbar(im0, ax = ax[0], location = 'bottom')\n",
    "fig2.colorbar(im1, ax = ax[1], location = 'bottom')\n",
    "ax2[0].set_xlabel('radial element')\n",
    "ax2[1].set_xlabel('radial element')\n",
    "ax2[0].set_ylabel('view')\n",
    "ax2[1].set_ylabel('view')\n",
    "fig2.tight_layout()"
   ]
  }
 ],
 "metadata": {
  "kernelspec": {
   "display_name": "Python 3",
   "language": "python",
   "name": "python3"
  },
  "language_info": {
   "codemirror_mode": {
    "name": "ipython",
    "version": 3
   },
   "file_extension": ".py",
   "mimetype": "text/x-python",
   "name": "python",
   "nbconvert_exporter": "python",
   "pygments_lexer": "ipython3",
   "version": "3.9.12"
  }
 },
 "nbformat": 4,
 "nbformat_minor": 5
}
