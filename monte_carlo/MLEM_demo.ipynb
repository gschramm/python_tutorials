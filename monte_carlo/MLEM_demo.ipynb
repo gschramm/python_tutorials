{
 "cells": [
  {
   "cell_type": "markdown",
   "id": "08457dd6",
   "metadata": {},
   "source": [
    "## Image reconstruction using Maximum Likeliood Expectation Maximization (MLEM)\n"
   ]
  },
  {
   "cell_type": "markdown",
   "id": "74df815c",
   "metadata": {},
   "source": [
    "Maximum Likeliood Expectation Maximization (MLEM) is one of the most used iterative image reconstruction algorithms used to reconstruct PET and SPECT images. Detailed background information on this algorithm for PET and SPECT image reconstruction is available in [this video](https://www.youtube.com/watch?v=CHKOSYdf47c) and in [this video](https://www.youtube.com/watch?v=Z70n5NCw9BY). Moreover, background information on the concept of maximum likelihood approaches are available [here](https://www.youtube.com/watch?v=uTa7g_h4c1E). Background information on PET and SPECT is available [here](https://www.youtube.com/watch?v=M8DOzE2d0dw) and [here](https://www.youtube.com/watch?v=4mrtq8CeLvo&list=PLKkWkQgtnBS1tWAE3-TL1-MDKY9EUJTFP&index=2)."
   ]
  },
  {
   "cell_type": "markdown",
   "id": "c3f78556",
   "metadata": {},
   "source": [
    "### Learning objective\n",
    "\n",
    "The aim of this notebook is to implement the iterative MLEM for reconstruction of simulated 2D PET data."
   ]
  },
  {
   "cell_type": "markdown",
   "id": "49c0dafa",
   "metadata": {},
   "source": [
    "### The MLEM update algorithm"
   ]
  },
  {
   "cell_type": "markdown",
   "id": "363c10e7",
   "metadata": {},
   "source": [
    "Since MLEM is an iterative algorithm, it tells us how to calculated an updated image $x^{n+1}$ based on a current image $x^n$ and measured PET emission data $y$ via\n",
    "\n",
    "\\begin{equation}\n",
    "x^{n+1} = \\frac{x^n}{P^T \\mathbb{1}} P^T \\left( \\frac{y}{\\bar{y}(x^n)} \\right) \\ ,\n",
    "\\label{eq:MLEM_update}\n",
    "\\tag{1}\n",
    "\\end{equation}\n",
    "\n",
    "where\n",
    "\n",
    "\\begin{equation}\n",
    "\\bar{y}(x^n) = Px^n + s \\ ,\n",
    "\\label{eq:fwd_model}\n",
    "\\tag{2}\n",
    "\\end{equation}\n",
    "\n",
    "Eq. (2) is the so-called forward model that calculates which data $\\bar{y}$ to expect based on the current image $x^n$. The linear operator $P$ includes a model of the PET acquisition physics (e.g. calculation of line integrals, and correction for attenuation and detector sensitivities). Moreover, $s$ denotes the contribution of random and scattered coincidences. In many books, the $P$ is called the *forward model* and the application of $P$ to $x^n$ is called the *(corrected) forward projection* of $x^n$ which maps from image space into the data (sinogram) space.\n",
    "Accordingly, the adjoint (transposed) operator $P^T$ - often also called the back projection - maps from data (sinogram) space into image space. Note that (i) $\\mathbb{1}$ is a data set (sinogram) full of ones and (ii) the divisions in (1) are to be understood point-wise. \n",
    "\n",
    "**In this notebook, we assume that $P$, $P^T$, $s$ are known and we will provide simplistic 2D implementations of them.**"
   ]
  },
  {
   "cell_type": "markdown",
   "id": "8d61a1b7",
   "metadata": {},
   "source": [
    "### Module import section"
   ]
  },
  {
   "cell_type": "code",
   "execution_count": null,
   "id": "6ba0bfe2",
   "metadata": {},
   "outputs": [],
   "source": [
    "# import of modules that we need in this notebook\n",
    "# make sure that utils.py is placed in the same directory \n",
    "\n",
    "import numpy as np\n",
    "import matplotlib.pyplot as plt\n",
    "from scipy.ndimage import gaussian_filter\n",
    "from utils import RotationBased2DProjector, PETAcquisitionModel, test_images\n",
    "\n",
    "# needed to get inline matplotlib plots in an IPython notebook\n",
    "%matplotlib inline"
   ]
  },
  {
   "cell_type": "markdown",
   "id": "d277d1ea",
   "metadata": {},
   "source": [
    "### Input parameter section"
   ]
  },
  {
   "cell_type": "code",
   "execution_count": null,
   "id": "90992e18",
   "metadata": {},
   "outputs": [],
   "source": [
    "# input parameter for our demo\n",
    "\n",
    "# number of pixels for our images to be simulated and reconstructed\n",
    "npix = 100\n",
    "# pixel size in mm\n",
    "pix_size_mm = 4\n",
    "\n",
    "plt.rcParams['image.cmap'] = 'Greys'\n",
    "np.random.seed(1)"
   ]
  },
  {
   "cell_type": "markdown",
   "id": "728aa27d",
   "metadata": {},
   "source": [
    "### Image setup"
   ]
  },
  {
   "cell_type": "code",
   "execution_count": null,
   "id": "15d1bbe2",
   "metadata": {},
   "outputs": [],
   "source": [
    "# generate the ground truth activity (emission) and attenuation images that we use for the data simulation\n",
    "em_img, att_img = test_images(npix)"
   ]
  },
  {
   "cell_type": "code",
   "execution_count": null,
   "id": "168f5ca2",
   "metadata": {},
   "outputs": [],
   "source": [
    "# show the true activity (emission) image and the attenuation image\n",
    "fig, ax = plt.subplots(1,2)\n",
    "im0 = ax[0].imshow(em_img)\n",
    "im1 = ax[1].imshow(att_img)\n",
    "fig.colorbar(im0, ax = ax[0], location = 'bottom')\n",
    "fig.colorbar(im1, ax = ax[1], location = 'bottom')\n",
    "fig.tight_layout()\n",
    "\n",
    "print(f'image shape {em_img.shape}')"
   ]
  },
  {
   "cell_type": "markdown",
   "id": "af6c3151",
   "metadata": {},
   "source": [
    "### Data simulation "
   ]
  },
  {
   "cell_type": "code",
   "execution_count": null,
   "id": "7b8d1884",
   "metadata": {},
   "outputs": [],
   "source": [
    "# setup the forward projector\"\n",
    "# the acq_model object is an abstract representation of the linear operator P (and also it's adjoint)\n",
    "proj = RotationBased2DProjector(npix, pix_size_mm = pix_size_mm, num_subsets = 1)\n",
    "acq_model = PETAcquisitionModel(proj, att_img)"
   ]
  },
  {
   "cell_type": "code",
   "execution_count": null,
   "id": "3725b57f",
   "metadata": {},
   "outputs": [],
   "source": [
    "# generate noise free data by applying the acquisition model to our simulated emission image\n",
    "noise_free_data = acq_model.forward(em_img)"
   ]
  },
  {
   "cell_type": "code",
   "execution_count": null,
   "id": "48c26bb4",
   "metadata": {},
   "outputs": [],
   "source": [
    "# add poisson noise to the data\n",
    "noisy_data = np.random.poisson(noise_free_data)"
   ]
  },
  {
   "cell_type": "code",
   "execution_count": null,
   "id": "3f80789a",
   "metadata": {},
   "outputs": [],
   "source": [
    "# show the noise-free and noisy simulated emission data (sinogram)\n",
    "fig2, ax2 = plt.subplots(1,2)\n",
    "im02 = ax2[0].imshow(noise_free_data)\n",
    "im12 = ax2[1].imshow(noisy_data)\n",
    "fig2.colorbar(im02, ax = ax2[0], location = 'bottom')\n",
    "fig2.colorbar(im12, ax = ax2[1], location = 'bottom')\n",
    "ax2[0].set_xlabel('radial element')\n",
    "ax2[1].set_xlabel('radial element')\n",
    "ax2[0].set_ylabel('view')\n",
    "ax2[1].set_ylabel('view')\n",
    "fig2.tight_layout()\n",
    "\n",
    "print(f'data (sinogram) shape {noise_free_data.shape}')"
   ]
  }
 ],
 "metadata": {
  "kernelspec": {
   "display_name": "Python 3",
   "language": "python",
   "name": "python3"
  },
  "language_info": {
   "codemirror_mode": {
    "name": "ipython",
    "version": 3
   },
   "file_extension": ".py",
   "mimetype": "text/x-python",
   "name": "python",
   "nbconvert_exporter": "python",
   "pygments_lexer": "ipython3",
   "version": "3.9.12"
  }
 },
 "nbformat": 4,
 "nbformat_minor": 5
}
