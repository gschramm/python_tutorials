{
 "cells": [
  {
   "cell_type": "markdown",
   "id": "08457dd6",
   "metadata": {},
   "source": [
    "## Image reconstruction using Maximum Likeliood Expectation Maximization (MLEM)\n"
   ]
  },
  {
   "cell_type": "markdown",
   "id": "74df815c",
   "metadata": {},
   "source": [
    "Maximum Likeliood Expectation Maximization (MLEM) is one of the most used iterative image reconstruction algorithms used to reconstruct PET and SPECT images. Detailed background information on this algorithm for PET and SPECT image reconstruction is available in [this video](https://www.youtube.com/watch?v=CHKOSYdf47c) and in [this video](https://www.youtube.com/watch?v=Z70n5NCw9BY). Moreover, background information on the concept of maximum likelihood approaches are available [here](https://www.youtube.com/watch?v=uTa7g_h4c1E). Background information on PET and SPECT is available [here](https://www.youtube.com/watch?v=M8DOzE2d0dw) and [here](https://www.youtube.com/watch?v=4mrtq8CeLvo&list=PLKkWkQgtnBS1tWAE3-TL1-MDKY9EUJTFP&index=2)."
   ]
  },
  {
   "cell_type": "markdown",
   "id": "c3f78556",
   "metadata": {},
   "source": [
    "### Learning objective\n",
    "\n",
    "The aim of this notebook is to implement the iterative MLEM for reconstruction of simulated 2D PET data and study the influence of the number of used MLEM updates on the quality of the reconstructed image."
   ]
  },
  {
   "cell_type": "markdown",
   "id": "49c0dafa",
   "metadata": {},
   "source": [
    "### The MLEM update algorithm"
   ]
  },
  {
   "cell_type": "markdown",
   "id": "363c10e7",
   "metadata": {},
   "source": [
    "Since MLEM is an iterative algorithm, it tells us how to calculated an updated image $x^{n+1}$ based on a current image $x^n$ and measured PET emission data $y$ via\n",
    "\n",
    "\\begin{equation}\n",
    "x^{n+1} = \\frac{x^n}{P^T \\mathbb{1}} P^T \\left( \\frac{y}{\\bar{y}(x^n)} \\right) \\ ,\n",
    "\\label{eq:MLEM_update}\n",
    "\\tag{1}\n",
    "\\end{equation}\n",
    "\n",
    "where\n",
    "\n",
    "\\begin{equation}\n",
    "\\bar{y}(x^n) = Px^n + s \\ .\n",
    "\\label{eq:fwd_model}\n",
    "\\tag{2}\n",
    "\\end{equation}\n",
    "\n",
    "Eq. (2) is the so-called forward model that calculates which data $\\bar{y}$ to expect based on the current image $x^n$. The linear operator $P$ includes a model of the PET acquisition physics (e.g. calculation of line integrals, and correction for attenuation and detector sensitivities). Moreover, $s$ denotes the contribution of random and scattered coincidences. In many books, the $P$ is called the *forward model* and the application of $P$ to $x^n$ is called the *(corrected) forward projection* of $x^n$ which maps from image space into the data (sinogram) space.\n",
    "Accordingly, the adjoint (transposed) operator $P^T$ - often also called the back projection - maps from data (sinogram) space into image space. Note that (i) $\\mathbb{1}$ is a data set (sinogram) full of ones and (ii) the divisions in (1) are to be understood point-wise. \n",
    "\n",
    "**In this notebook, we assume that $P$, $P^T$, $s$ are known and we will provide simplistic 2D implementations of them.**"
   ]
  },
  {
   "cell_type": "markdown",
   "id": "8d61a1b7",
   "metadata": {},
   "source": [
    "### Module import section"
   ]
  },
  {
   "cell_type": "code",
   "execution_count": null,
   "id": "6ba0bfe2",
   "metadata": {},
   "outputs": [],
   "source": [
    "# import of modules that we need in this notebook\n",
    "# make sure that utils.py is placed in the same directory \n",
    "\n",
    "import numpy as np\n",
    "import matplotlib.pyplot as plt\n",
    "from scipy.ndimage import gaussian_filter\n",
    "from utils import RotationBased2DProjector, PETAcquisitionModel, test_images\n",
    "\n",
    "# needed to get inline matplotlib plots in an IPython notebook\n",
    "%matplotlib inline"
   ]
  },
  {
   "cell_type": "markdown",
   "id": "d277d1ea",
   "metadata": {},
   "source": [
    "### Input parameter section"
   ]
  },
  {
   "cell_type": "code",
   "execution_count": null,
   "id": "90992e18",
   "metadata": {},
   "outputs": [],
   "source": [
    "# input parameter for our demo\n",
    "\n",
    "# number of pixels for our images to be simulated and reconstructed\n",
    "npix = 100\n",
    "# pixel size in mm\n",
    "pix_size_mm = 4\n",
    "\n",
    "# set the default color map to Greys (white to black) for showing images\n",
    "plt.rcParams['image.cmap'] = 'Greys'\n",
    "# set the random seed\n",
    "np.random.seed(1)"
   ]
  },
  {
   "cell_type": "markdown",
   "id": "728aa27d",
   "metadata": {},
   "source": [
    "### Setup of ground truth images"
   ]
  },
  {
   "cell_type": "code",
   "execution_count": null,
   "id": "15d1bbe2",
   "metadata": {},
   "outputs": [],
   "source": [
    "# generate the ground truth activity (emission) and attenuation images that we use for the data simulation\n",
    "em_img, att_img = test_images(npix)"
   ]
  },
  {
   "cell_type": "code",
   "execution_count": null,
   "id": "168f5ca2",
   "metadata": {},
   "outputs": [],
   "source": [
    "# show the true activity (emission) image and the attenuation image\n",
    "fig, ax = plt.subplots(1,2)\n",
    "im0 = ax[0].imshow(em_img)\n",
    "im1 = ax[1].imshow(att_img)\n",
    "fig.colorbar(im0, ax = ax[0], location = 'bottom')\n",
    "fig.colorbar(im1, ax = ax[1], location = 'bottom')\n",
    "ax[0].set_title('ground truth activity image')\n",
    "ax[1].set_title('ground truth attenuation image')\n",
    "fig.tight_layout()\n",
    "\n",
    "print(f'image shape {em_img.shape}')"
   ]
  },
  {
   "cell_type": "markdown",
   "id": "d4fb60c0",
   "metadata": {},
   "source": [
    "Note that the attenuation image is needed in the forward model to model the effect of photon attenuation."
   ]
  },
  {
   "cell_type": "markdown",
   "id": "af6c3151",
   "metadata": {},
   "source": [
    "### Data simulation "
   ]
  },
  {
   "cell_type": "code",
   "execution_count": null,
   "id": "7b8d1884",
   "metadata": {},
   "outputs": [],
   "source": [
    "# setup the forward projector\"\n",
    "# the acq_model object is an abstract representation of the linear operator P (and also it's adjoint)\n",
    "proj = RotationBased2DProjector(npix, pix_size_mm = pix_size_mm, num_subsets = 1)\n",
    "acq_model = PETAcquisitionModel(proj, att_img)"
   ]
  },
  {
   "cell_type": "code",
   "execution_count": null,
   "id": "3725b57f",
   "metadata": {},
   "outputs": [],
   "source": [
    "# generate noise free data by applying the acquisition model to our simulated emission image\n",
    "noise_free_data = acq_model.forward(em_img)"
   ]
  },
  {
   "cell_type": "code",
   "execution_count": null,
   "id": "48c26bb4",
   "metadata": {},
   "outputs": [],
   "source": [
    "# add poisson noise to the data\n",
    "noisy_data = np.random.poisson(noise_free_data)"
   ]
  },
  {
   "cell_type": "code",
   "execution_count": null,
   "id": "3f80789a",
   "metadata": {},
   "outputs": [],
   "source": [
    "# show the noise-free and noisy simulated emission data (sinogram)\n",
    "fig2, ax2 = plt.subplots(1,2)\n",
    "im02 = ax2[0].imshow(noise_free_data)\n",
    "im12 = ax2[1].imshow(noisy_data)\n",
    "fig2.colorbar(im02, ax = ax2[0], location = 'bottom')\n",
    "fig2.colorbar(im12, ax = ax2[1], location = 'bottom')\n",
    "ax2[0].set_xlabel('radial element')\n",
    "ax2[1].set_xlabel('radial element')\n",
    "ax2[0].set_ylabel('view')\n",
    "ax2[1].set_ylabel('view')\n",
    "ax2[0].set_title('noise-free data')\n",
    "ax2[1].set_title('noisy data (to be reconstructed)')\n",
    "fig2.tight_layout()\n",
    "\n",
    "print(f'data (sinogram) shape {noise_free_data.shape}')"
   ]
  },
  {
   "cell_type": "markdown",
   "id": "97de9fa9",
   "metadata": {},
   "source": [
    "### Image reconstruction"
   ]
  },
  {
   "cell_type": "markdown",
   "id": "ebfa500d",
   "metadata": {},
   "source": [
    "To reconstruct the simualted data sinogram $y$ with the MLEM algorithm as given in Eq. (1), we need to know how to evaluate the forward model in Eq. (2) and how to evaluate the adjoin operator $P^T$ (the backprojection)."
   ]
  },
  {
   "cell_type": "markdown",
   "id": "9f5536ed",
   "metadata": {},
   "source": [
    "For a given image $x$, the forward step $\\bar{y}(x) = Px + s$ can be calculated via: "
   ]
  },
  {
   "cell_type": "code",
   "execution_count": null,
   "id": "84ab6f9d",
   "metadata": {},
   "outputs": [],
   "source": [
    "# setup a random image x\n",
    "x    = np.zeros((npix,npix))\n",
    "x[30:35, 35:40] = 1\n",
    "ybar = acq_model.forward(x)  "
   ]
  },
  {
   "cell_type": "markdown",
   "id": "82d66eb8",
   "metadata": {},
   "source": [
    "Note that in this notebook, the value of the contamination $s$ is fixed and included in the call to ```acq_model.forward()```."
   ]
  },
  {
   "cell_type": "markdown",
   "id": "d5e8c212",
   "metadata": {},
   "source": [
    "Show the image $x$ and the expected data $\\bar{y}(x)$."
   ]
  },
  {
   "cell_type": "code",
   "execution_count": null,
   "id": "34fec388",
   "metadata": {},
   "outputs": [],
   "source": [
    "fig3, ax3 = plt.subplots(1,2)\n",
    "im03 = ax3[0].imshow(x)\n",
    "im13 = ax3[1].imshow(ybar)\n",
    "fig3.colorbar(im03, ax = ax3[0], location = 'bottom')\n",
    "fig3.colorbar(im13, ax = ax3[1], location = 'bottom')\n",
    "ax3[1].set_xlabel('radial element')\n",
    "ax3[1].set_ylabel('view')\n",
    "ax3[0].set_title(r'image $x$')\n",
    "ax3[1].set_title(r'expected data $\\bar{y}(x) = Px + s$')\n",
    "fig3.tight_layout()\n",
    "\n",
    "print(f'shape of x {x.shape}')\n",
    "print(f'shape of ybar {ybar.shape}')"
   ]
  },
  {
   "cell_type": "markdown",
   "id": "4a706df6",
   "metadata": {},
   "source": [
    "To evaluate $P^T r$ (the adjoint operator $P^T$ applied to a given data set / sinogram $r$) you can call:"
   ]
  },
  {
   "cell_type": "code",
   "execution_count": null,
   "id": "20322ec0",
   "metadata": {},
   "outputs": [],
   "source": [
    "r = ybar.copy()\n",
    "z = acq_model.adjoint(r)"
   ]
  },
  {
   "cell_type": "markdown",
   "id": "ccce8dc9",
   "metadata": {},
   "source": [
    "Show the sinogram $r$ and the image $z$"
   ]
  },
  {
   "cell_type": "code",
   "execution_count": null,
   "id": "45d71ce1",
   "metadata": {},
   "outputs": [],
   "source": [
    "fig4, ax4 = plt.subplots(1,2)\n",
    "im04 = ax4[0].imshow(r)\n",
    "im14 = ax4[1].imshow(z)\n",
    "fig4.colorbar(im04, ax = ax4[0], location = 'bottom')\n",
    "fig4.colorbar(im14, ax = ax4[1], location = 'bottom')\n",
    "ax4[0].set_xlabel('radial element')\n",
    "ax4[0].set_ylabel('view')\n",
    "ax4[0].set_title(r'sinogram $r$')\n",
    "ax4[1].set_title(r'image $z = P^T r$')\n",
    "fig4.tight_layout()\n",
    "\n",
    "print(f'shape of r {r.shape}')\n",
    "print(f'shape of z {z.shape}')"
   ]
  },
  {
   "cell_type": "markdown",
   "id": "07e2c1d5",
   "metadata": {},
   "source": [
    "### Now it is your turn"
   ]
  },
  {
   "cell_type": "markdown",
   "id": "4ba5247c",
   "metadata": {},
   "source": [
    "1. With the knowledge from the cells above, implent an iterative MLEM reconstruction to reconstruct the data stored in ```noisy_data``` sinogram in the cell below.\n",
    "2. Run 200 updates (iterations) to reconstruct the data and display the reconstructed image.\n",
    "3. How does the number of used updated (iterations) influence the reconstructed image? Visualize reconstructions after 5, 25, 100, 200 and updates (iterations) by showing the reconstructed images and also a line profile through the center.\n",
    "\n",
    "Note:\n",
    "- before running the first update, you have to initialize the image $x^0$. Use ```acq_model.init_image()``` to get an image that contains 1s in the field-of-view that can be reconstructed and 0s in the background.\n",
    "- only reconstruct the image in pixels where the initial image is not 0 (which corresponds to the pixels that can be reconstructed because they are within the simulated PET scanner ring.)"
   ]
  },
  {
   "cell_type": "code",
   "execution_count": null,
   "id": "5f3c34ee",
   "metadata": {},
   "outputs": [],
   "source": [
    "# initialize our reconstruction here\n",
    "x_0 = acq_model.init_image()\n",
    "\n",
    "\n",
    "#------------------------------------------------------\n",
    "#------------------------------------------------------\n",
    "#------------------------------------------------------\n",
    "\n",
    "# MLEM updates to be implemented here\n",
    "\n",
    "n_updates = 200\n",
    "\n",
    "# pixel indices that can be reconstructed\n",
    "recon_inds = np.where(x_0 > 0)\n",
    "\n",
    "# allocate empty array for recon after every update\n",
    "recons = np.zeros((n_updates,) + x.shape)\n",
    "\n",
    "# calculate the backprojection of a sinogram full of ones (the sensitivity image)\n",
    "sens_img = acq_model.adjoint(np.ones(noisy_data.shape))\n",
    "\n",
    "x = x_0.copy()\n",
    "\n",
    "for i in range(n_updates):\n",
    "  print(f'iteration {(i+1):04}', end = '\\r')\n",
    "  # calculate the forwward step (expectation of data given image x)\n",
    "  ybar  = acq_model.forward(x)\n",
    "  # calcualte the ratio of measure data and expected data\n",
    "  ratio =  noisy_data / ybar\n",
    "  # update the image\n",
    "  x[recon_inds] *= acq_model.adjoint(ratio)[recon_inds] \n",
    "  x[recon_inds] /= sens_img[recon_inds]\n",
    "\n",
    "  recons[i,...] = x\n",
    "\n",
    "\n",
    "#------------------------------------------------------\n",
    "#------------------------------------------------------\n",
    "#------------------------------------------------------"
   ]
  },
  {
   "cell_type": "code",
   "execution_count": null,
   "id": "fdc34911",
   "metadata": {},
   "outputs": [],
   "source": [
    "# visualize reconstruction\n",
    "# show initial image\n",
    "fig5, ax5 = plt.subplots(1,5, figsize = (15,3))\n",
    "im50 = ax5[0].imshow(x_0, vmin = 0, vmax = 1.2*em_img.max())\n",
    "fig5.colorbar(im50, ax = ax5[0], location = 'bottom')\n",
    "ax5[0].set_title(r'initial image $x^0$')\n",
    "\n",
    "# show MLEM reconstruction here\n",
    "# replace x_0 with reconstruction(s) here\n",
    "\n",
    "for i,update in enumerate([5,25,100,200]):\n",
    "  im = ax5[i+1].imshow(recons[update-1,...], vmin = 0, vmax = 1.2*em_img.max())\n",
    "  fig5.colorbar(im, ax = ax5[i+1], location = 'bottom')\n",
    "  ax5[i+1].set_title(f'reconstr. {update} MLEM updates')\n",
    "\n",
    "fig5.tight_layout()"
   ]
  },
  {
   "cell_type": "code",
   "execution_count": null,
   "id": "cabf4e30",
   "metadata": {},
   "outputs": [],
   "source": [
    "# visualize a line profile through the reconstructions\n",
    "fig6, ax6 = plt.subplots(figsize = (9,6))\n",
    "\n",
    "for i,update in enumerate([5,25,100,200]):\n",
    "  ax6.plot(recons[update-1,npix//2,:], label = f'{update} updates')  \n",
    "\n",
    "ax6.legend()\n",
    "ax6.grid(ls = ':')\n",
    "fig6.tight_layout()"
   ]
  }
 ],
 "metadata": {
  "kernelspec": {
   "display_name": "Python 3",
   "language": "python",
   "name": "python3"
  },
  "language_info": {
   "codemirror_mode": {
    "name": "ipython",
    "version": 3
   },
   "file_extension": ".py",
   "mimetype": "text/x-python",
   "name": "python",
   "nbconvert_exporter": "python",
   "pygments_lexer": "ipython3",
   "version": "3.9.12"
  }
 },
 "nbformat": 4,
 "nbformat_minor": 5
}
